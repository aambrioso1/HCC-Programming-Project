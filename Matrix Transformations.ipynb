{
 "cells": [
  {
   "cell_type": "markdown",
   "metadata": {},
   "source": [
    "Transformations and Matrix Multiplication\n",
    "\n",
    "For a detailed explanation see this Section 3: \"Examples in 2 dimensions\" in this article:\n",
    "https://en.wikipedia.org/wiki/Transformation_matrix"
   ]
  },
  {
   "cell_type": "code",
   "execution_count": 5,
   "metadata": {},
   "outputs": [
    {
     "name": "stdout",
     "output_type": "stream",
     "text": [
      "m1 = [[2 0]\n",
      " [0 1]]\n",
      "[1 1] [3 1] [3 4]\n",
      "[0.47140452 1.64991582] [3.29983165 3.06412939] [0.47140452 5.89255651]\n"
     ]
    },
    {
     "data": {
      "image/png": "[encoded data removed]",
      "text/plain": [
       "<Figure size 432x288 with 1 Axes>"
      ]
     },
     "metadata": {
      "needs_background": "light"
     },
     "output_type": "display_data"
    }
   ],
   "source": [
    "import numpy as np\n",
    "import math\n",
    "import matplotlib.pyplot as plt\n",
    "\n",
    "# The example in the problem\n",
    "theta = math.pi/4\n",
    "sx = 2\n",
    "sy = 1\n",
    "k = 1/3\n",
    "\n",
    "m1 = np.array([[sx, 0],\n",
    "              [0, sy]])\n",
    "m2 = np.array([[math.cos(theta), (-1) * math.sin(theta)],\n",
    "              [math.sin(theta), math.cos(theta)]])\n",
    "m3 = np.array([[1, k],\n",
    "              [0, 1]])\n",
    "\n",
    "m4 = np.matmul(m1, m2)\n",
    "\n",
    "T = np.matmul(m4, m3)\n",
    "\n",
    "print(f'm1 = {m1}')\n",
    "\n",
    "p1 = np.array([1, 1])\n",
    "p2 = np.array([3, 1])\n",
    "p3 = np.array([3, 4])\n",
    "\n",
    "p1_T = np.matmul(T, p1)\n",
    "p2_T = np.matmul(T, p2)\n",
    "p3_T = np.matmul(T, p3)\n",
    "\n",
    "print(p1, p2, p3)\n",
    "print(p1_T, p2_T, p3_T)\n",
    "\n",
    "# \n",
    "x1 = p1[0]\n",
    "y1 = p1[1]\n",
    "x2 = p2[0]\n",
    "y2 = p2[1]\n",
    "x3 = p3[0]\n",
    "y3 = p3[1]\n",
    "\n",
    "x4 = p1_T[0]\n",
    "y4 = p1_T[1]\n",
    "x5 = p2_T[0]\n",
    "y5 = p2_T[1]\n",
    "x6 = p3_T[0]\n",
    "y6 = p3_T[1]\n",
    "\n",
    "fig = plt.figure() # create a plot\n",
    "ax = fig.add_subplot(111) # place plot in fig\n",
    "\n",
    "# Plot the original triangle\n",
    "plt.plot([x1, x2],[y1,y2]) \n",
    "plt.plot([x2, x3],[y2,y3])\n",
    "plt.plot([x3, x1],[y3,y1])\n",
    "\n",
    "# Plot the transformed triangle\n",
    "plt.plot([x4, x5],[y4,y5])\n",
    "plt.plot([x5, x6],[y5,y6])\n",
    "plt.plot([x6, x4],[y6,y4])\n",
    "\n",
    "plt.axis([0,6,0,6]) # Determine the range of the x and y axes.\n",
    "plt.grid(True) # Add grid lines\n",
    "ax.set_aspect('equal', adjustable='box') # Scales the axis the same\n",
    "plt.show() # Outputs the plot"
   ]
  },
  {
   "cell_type": "raw",
   "metadata": {},
   "source": [
    "So what is happening?   There are four things happening:\n",
    "(1)  A stretch in the x direction,\n",
    "(2)  A stretch in the y direction,\n",
    "(3)  A counterclockwise rotation, and\n",
    "(4)  A shear.\n",
    "\n",
    "The following illustrates each of these in turn."
   ]
  },
  {
   "cell_type": "code",
   "execution_count": 8,
   "metadata": {},
   "outputs": [
    {
     "name": "stdout",
     "output_type": "stream",
     "text": [
      "p1 = [1 1], p1_T = [1 2]\n"
     ]
    },
    {
     "data": {
      "image/png": "[encoded data removed]",
      "text/plain": [
       "<Figure size 432x288 with 1 Axes>"
      ]
     },
     "metadata": {
      "needs_background": "light"
     },
     "output_type": "display_data"
    }
   ],
   "source": [
    "#  This is a demonstration of a (1) and (2) the stretch.  The plot illustrates a stretch in the\n",
    "# direction\n",
    "\n",
    "sx = 2\n",
    "sy = 1\n",
    "\n",
    "# This results in a stretch by a factor of sx in the x direction\n",
    "T_stretch_x = np.array([[1, 0],\n",
    "              [0, sx]])\n",
    "\n",
    "# This results in a stretch by a factor of sy in the y direction\n",
    "T_stretch_y = np.array([[1, 0],\n",
    "              [0, sy]])\n",
    "\n",
    "p1 = np.array([1, 1])\n",
    "p2 = np.array([3, 1])\n",
    "p3 = np.array([3, 4])\n",
    "\n",
    "p1_T = np.matmul(T_stretch_x, p1)\n",
    "p2_T = np.matmul(T_stretch_x, p2)\n",
    "p3_T = np.matmul(T_stretch_x, p3)\n",
    "\n",
    "#  This code demonstrates stretching a figure\n",
    "x1 = p1[0]\n",
    "y1 = p1[1]\n",
    "x2 = p2[0]\n",
    "y2 = p2[1]\n",
    "x3 = p3[0]\n",
    "y3 = p3[1]\n",
    "\n",
    "x4 = p1_T[0]\n",
    "y4 = p1_T[1]\n",
    "x5 = p2_T[0]\n",
    "y5 = p2_T[1]\n",
    "x6 = p3_T[0]\n",
    "y6 = p3_T[1]\n",
    "\n",
    "print(f'p1 = {p1}, p1_T = {p1_T}')\n",
    "\n",
    "fig = plt.figure() # create a plot\n",
    "ax = fig.add_subplot(111) # place plot in fig\n",
    "\n",
    "# Plot the original triangle\n",
    "plt.plot([x1, x2],[y1,y2]) \n",
    "plt.plot([x2, x3],[y2,y3])\n",
    "plt.plot([x3, x1],[y3,y1])\n",
    "\n",
    "# Plot the transformed triangle\n",
    "plt.plot([x4, x5],[y4,y5])\n",
    "plt.plot([x5, x6],[y5,y6])\n",
    "plt.plot([x6, x4],[y6,y4])\n",
    "\n",
    "plt.axis([0,5,0, 10]) # Determine the range of the x and y axes.\n",
    "plt.grid(True) # Add grid lines\n",
    "ax.set_aspect('equal', adjustable='box') # Scales the axis the same\n",
    "plt.show() # Outputs the plot\n"
   ]
  },
  {
   "cell_type": "markdown",
   "metadata": {},
   "source": [
    "Ths next cell will demonstrate counterclockwise rotation of theta radians"
   ]
  },
  {
   "cell_type": "code",
   "execution_count": 14,
   "metadata": {},
   "outputs": [
    {
     "name": "stdout",
     "output_type": "stream",
     "text": [
      "p1 = [1 1], p1_T = [-1.  1.]\n"
     ]
    },
    {
     "data": {
      "image/png": "[encoded data removed]",
      "text/plain": [
       "<Figure size 432x288 with 1 Axes>"
      ]
     },
     "metadata": {
      "needs_background": "light"
     },
     "output_type": "display_data"
    }
   ],
   "source": [
    "# THis plot shows (3) the counterclockwise rotation of theta radians\n",
    "\n",
    "theta = math.pi/2\n",
    "T_rotate = np.array([[math.cos(theta), (-1) * math.sin(theta)],\n",
    "              [math.sin(theta), math.cos(theta)]])\n",
    "\n",
    "\n",
    "p1 = np.array([1, 1])\n",
    "p2 = np.array([3, 1])\n",
    "p3 = np.array([3, 4])\n",
    "\n",
    "p1_T = np.matmul(T_rotate, p1)\n",
    "p2_T = np.matmul(T_rotate, p2)\n",
    "p3_T = np.matmul(T_rotate, p3)\n",
    "\n",
    "x1 = p1[0]\n",
    "y1 = p1[1]\n",
    "x2 = p2[0]\n",
    "y2 = p2[1]\n",
    "x3 = p3[0]\n",
    "y3 = p3[1]\n",
    "\n",
    "x4 = p1_T[0]\n",
    "y4 = p1_T[1]\n",
    "x5 = p2_T[0]\n",
    "y5 = p2_T[1]\n",
    "x6 = p3_T[0]\n",
    "y6 = p3_T[1]\n",
    "\n",
    "print(f'p1 = {p1}, p1_T = {p1_T}')\n",
    "\n",
    "fig = plt.figure() # create a plot\n",
    "ax = fig.add_subplot(111) # place plot in fig\n",
    "\n",
    "# Plot the original triangle\n",
    "plt.plot([x1, x2],[y1,y2]) \n",
    "plt.plot([x2, x3],[y2,y3])\n",
    "plt.plot([x3, x1],[y3,y1])\n",
    "\n",
    "# Plot the transformed triangle\n",
    "plt.plot([x4, x5],[y4,y5])\n",
    "plt.plot([x5, x6],[y5,y6])\n",
    "plt.plot([x6, x4],[y6,y4])\n",
    "\n",
    "plt.axis([-10, 4, 0, 5]) # Determine the range of the x and y axes.\n",
    "plt.grid(True) # Add grid lines\n",
    "ax.set_aspect('equal', adjustable='box') # Scales the axis the same\n",
    "plt.show() # Outputs the plot"
   ]
  },
  {
   "cell_type": "code",
   "execution_count": 15,
   "metadata": {},
   "outputs": [
    {
     "name": "stdout",
     "output_type": "stream",
     "text": [
      "p1 = [1 1], p1_T = [1.33333333 1.        ]\n"
     ]
    },
    {
     "data": {
      "image/png": "[encoded data removed]",
      "text/plain": [
       "<Figure size 432x288 with 1 Axes>"
      ]
     },
     "metadata": {
      "needs_background": "light"
     },
     "output_type": "display_data"
    }
   ],
   "source": [
    "# This plots shows the result of (4) a shear of the figure parallel to the x axis\n",
    "\n",
    "T_slant_x = np.array([[1, k],\n",
    "              [0, 1]])\n",
    "\n",
    "# This results in a shear of the figure parallel to the y axis\n",
    "T_slant_y = np.array([[1, k],\n",
    "              [0, 1]])\n",
    "\n",
    "# This results in a counterclockwise rotation of theta radians\n",
    "\n",
    "theta = math.pi/3\n",
    "T_rotate = np.array([[math.cos(theta), (-1) * math.sin(theta)],\n",
    "              [math.sin(theta), math.cos(theta)]])\n",
    "\n",
    "\n",
    "p1 = np.array([1, 1])\n",
    "p2 = np.array([3, 1])\n",
    "p3 = np.array([3, 4])\n",
    "\n",
    "p1_T = np.matmul(T_slant_x, p1)\n",
    "p2_T = np.matmul(T_slant_x, p2)\n",
    "p3_T = np.matmul(T_slant_x, p3)\n",
    "\n",
    "x1 = p1[0]\n",
    "y1 = p1[1]\n",
    "x2 = p2[0]\n",
    "y2 = p2[1]\n",
    "x3 = p3[0]\n",
    "y3 = p3[1]\n",
    "\n",
    "x4 = p1_T[0]\n",
    "y4 = p1_T[1]\n",
    "x5 = p2_T[0]\n",
    "y5 = p2_T[1]\n",
    "x6 = p3_T[0]\n",
    "y6 = p3_T[1]\n",
    "\n",
    "print(f'p1 = {p1}, p1_T = {p1_T}')\n",
    "\n",
    "fig = plt.figure() # create a plot\n",
    "ax = fig.add_subplot(111) # place plot in fig\n",
    "\n",
    "# Plot the original triangle\n",
    "plt.plot([x1, x2],[y1,y2]) \n",
    "plt.plot([x2, x3],[y2,y3])\n",
    "plt.plot([x3, x1],[y3,y1])\n",
    "\n",
    "# Plot the transformed triangle\n",
    "plt.plot([x4, x5],[y4,y5])\n",
    "plt.plot([x5, x6],[y5,y6])\n",
    "plt.plot([x6, x4],[y6,y4])\n",
    "\n",
    "plt.axis([0, 5, 0, 5]) # Determine the range of the x and y axes.\n",
    "plt.grid(True) # Add grid lines\n",
    "ax.set_aspect('equal', adjustable='box') # Scales the axis the same\n",
    "plt.show() # Outputs the plot"
   ]
  },
  {
   "cell_type": "markdown",
   "metadata": {},
   "source": [
    "pip list\n",
    "\n"
   ]
  },
  {
   "cell_type": "code",
   "execution_count": 4,
   "metadata": {},
   "outputs": [
    {
     "name": "stdout",
     "output_type": "stream",
     "text": [
      "Hello\n"
     ]
    }
   ],
   "source": [
    "print(\"Hello\")"
   ]
  },
  {
   "attachments": {},
   "cell_type": "markdown",
   "metadata": {},
   "source": [
    "I am going to write a simple program:\n",
    "\n",
    "    print(\"hello\")\n",
    "    \n",
    "**Hello**\n",
    "\n",
    "\n",
    "\n"
   ]
  },
  {
   "cell_type": "code",
   "execution_count": null,
   "metadata": {},
   "outputs": [],
   "source": []
  },
  {
   "cell_type": "code",
   "execution_count": null,
   "metadata": {},
   "outputs": [],
   "source": []
  }
 ],
 "metadata": {
  "kernelspec": {
   "display_name": "Python 3",
   "language": "python",
   "name": "python3"
  },
  "language_info": {
   "codemirror_mode": {
    "name": "ipython",
    "version": 3
   },
   "file_extension": ".py",
   "mimetype": "text/x-python",
   "name": "python",
   "nbconvert_exporter": "python",
   "pygments_lexer": "ipython3",
   "version": "3.7.4"
  }
 },
 "nbformat": 4,
 "nbformat_minor": 2
}
